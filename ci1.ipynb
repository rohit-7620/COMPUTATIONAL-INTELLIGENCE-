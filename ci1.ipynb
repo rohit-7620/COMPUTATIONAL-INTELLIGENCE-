{
 "cells": [
  {
   "cell_type": "code",
   "execution_count": 19,
   "id": "7261ae74-28e1-4484-9a49-8ef19e71406b",
   "metadata": {},
   "outputs": [
    {
     "name": "stdout",
     "output_type": "stream",
     "text": [
      "Linear Regression Model Evaluation:\n",
      "MAE: 3638.07\n",
      "MSE: 28171492.11\n",
      "R2: 0.76\n",
      "Ridge Model Evaluation:\n",
      "MAE: 3637.88\n",
      "MSE: 28165092.91\n",
      "R2: 0.76\n"
     ]
    }
   ],
   "source": [
    "import pandas as pd\n",
    "from sklearn import model_selection, preprocessing, linear_model, metrics\n",
    "\n",
    "# 1. Data cleaning:\n",
    "data = pd.get_dummies(pd.read_csv(r\"C:\\Users\\ROHIT\\Downloads\\insurance.csv\"))\n",
    "X, y = data.drop(\"charges\", axis=1), data[\"charges\"]\n",
    "\n",
    "# 2. Feature scaling:\n",
    "X_scaled = StandardScaler().fit_transform(X)\n",
    "\n",
    "# 3. Gradient Descent:\n",
    "models = {\"Linear Regression\": LinearRegression(), \"Ridge\": Ridge()}\n",
    "X_train, X_test, y_train, y_test = train_test_split(X_scaled, y)\n",
    "\n",
    "for name, model in models.items():\n",
    "    model.fit(X_train, y_train)\n",
    "    preds = model.predict(X_test)\n",
    "    print(f\"{name} Model Evaluation:\")\n",
    "    print(\"MAE:\", round(mean_absolute_error(y_test, preds), 2)) \n",
    "    print(\"MSE:\", round(mean_squared_error(y_test, preds), 2)) \n",
    "    print(\"R2:\", round(r2_score(y_test, preds), 2))"
   ]
  },
  {
   "cell_type": "code",
   "execution_count": null,
   "id": "0daadee7-e0b6-451d-a234-09b18008d665",
   "metadata": {},
   "outputs": [],
   "source": []
  }
 ],
 "metadata": {
  "kernelspec": {
   "display_name": "Python 3 (ipykernel)",
   "language": "python",
   "name": "python3"
  },
  "language_info": {
   "codemirror_mode": {
    "name": "ipython",
    "version": 3
   },
   "file_extension": ".py",
   "mimetype": "text/x-python",
   "name": "python",
   "nbconvert_exporter": "python",
   "pygments_lexer": "ipython3",
   "version": "3.12.8"
  }
 },
 "nbformat": 4,
 "nbformat_minor": 5
}
